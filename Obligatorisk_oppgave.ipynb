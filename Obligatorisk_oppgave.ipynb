{
 "cells": [
  {
   "cell_type": "markdown",
   "id": "e614f3e1-34bf-4c7d-bf13-9e1be13a4b54",
   "metadata": {},
   "source": [
    "<h1>Innlesning og bearbeiding</h1>"
   ]
  },
  {
   "cell_type": "code",
   "execution_count": 3,
   "id": "940afee4-69fc-44af-8a35-8f110db7b54d",
   "metadata": {},
   "outputs": [
    {
     "name": "stdout",
     "output_type": "stream",
     "text": [
      "['Kontrollinstruksversjon', 'Første gang registrert', 'Første gang registrert i Norge', 'Kjøretøymerke', 'Kjøretøy Modell', 'Kjøretøy Merkekode', 'Kjøretøy Gruppekode', 'Kjøretøy Gruppeavgift', 'Kjøretøy Tekniskgruppe', 'Drivstofftype', 'Kilometerstand', 'Tillatt totalvekt opp til og med 3500', 'Tillatt totalvekt 3501-7500', 'Tillatt totalvekt over 7500', 'PKK Kontrolltype', 'PKK Kontrollmåned', 'PKK Intervall', 'PKK Frist', 'Trafikkfarlig feil', 'Godkjent', 'Kontrollorganets fylke', 'Kontrollorganets fylkesnummer', 'Ant 1er merknad', 'Ant 2er merknad', 'Ant 3er merknad', 'Ant 4er merknad', 'Ant 2-3er kap 0', 'Ant 2-3er kap 1', 'Ant 2-3er kap 2', 'Ant 2-3er kap 3', 'Ant 2-3er kap 4', 'Ant 2-3er kap 5', 'Ant 2-3er kap 6', 'Ant 2-3er kap 7', 'Ant 2-3er kap 8', 'Ant 2-3er kap 9', 'Ant 2-3er kap 10', 'Ant 00_01', 'Ant 00_02', 'Ant 01_01_01', 'Ant 01_01_02', 'Ant 01_01_03', 'Ant 01_01_04', 'Ant 01_01_05', 'Ant 01_01_06', 'Ant 01_01_07', 'Ant 01_01_08', 'Ant 01_01_09', 'Ant 01_01_10', 'Ant 01_01_11', 'Ant 01_01_12', 'Ant 01_01_13', 'Ant 01_01_14', 'Ant 01_01_15', 'Ant 01_01_16', 'Ant 01_01_17', 'Ant 01_01_18', 'Ant 01_01_19', 'Ant 01_01_20', 'Ant 01_01_21', 'Ant 01_01_22', 'Ant 01_01_23', 'Ant 01_01_24', 'Ant 01_01_25', 'Ant 01_02_01', 'Ant 01_02_02', 'Ant 01_03_01', 'Ant 01_03_02', 'Ant 01_04_01', 'Ant 01_04_02', 'Ant 01_05', 'Ant 01_06', 'Ant 01_07', 'Ant 01_08', 'Ant 02_01_01', 'Ant 02_01_02', 'Ant 02_01_03', 'Ant 02_01_04', 'Ant 02_01_05', 'Ant 02_02_01', 'Ant 02_02_02', 'Ant 02_03', 'Ant 02_04', 'Ant 02_05', 'Ant 02_06', 'Ant 02_07', 'Ant 03_01', 'Ant 03_02', 'Ant 03_03', 'Ant 03_04', 'Ant 03_05', 'Ant 03_06', 'Ant 04_01_01', 'Ant 04_01_02', 'Ant 04_01_03', 'Ant 04_01_04', 'Ant 04_01_05', 'Ant 04_01_06', 'Ant 04_02_01', 'Ant 04_02_02', 'Ant 04_02_03', 'Ant 04_03_01', 'Ant 04_03_02', 'Ant 04_03_03', 'Ant 04_04_01', 'Ant 04_04_02', 'Ant 04_04_03', 'Ant 04_04_04', 'Ant 04_05_01', 'Ant 04_05_02', 'Ant 04_05_03', 'Ant 04_05_04', 'Ant 04_06_01', 'Ant 04_06_02', 'Ant 04_06_03', 'Ant 04_07_01', 'Ant 04_07_02', 'Ant 04_08_01', 'Ant 04_08_02', 'Ant 04_09_01', 'Ant 04_09_02', 'Ant 04_10', 'Ant 04_11', 'Ant 04_12', 'Ant 04_13', 'Ant 04_14_01', 'Ant 04_14_02', 'Ant 04_14_03', 'Ant 04_14_04', 'Ant 05_01_01', 'Ant 05_01_02', 'Ant 05_01_03', 'Ant 05_02_01', 'Ant 05_02_02', 'Ant 05_02_03', 'Ant 05_03_01', 'Ant 05_03_02', 'Ant 05_03_03', 'Ant 05_03_04', 'Ant 05_03_05', 'Ant 06_01_01', 'Ant 06_01_02', 'Ant 06_01_03', 'Ant 06_01_04', 'Ant 06_01_05', 'Ant 06_01_06', 'Ant 06_01_07', 'Ant 06_01_08', 'Ant 06_01_09', 'Ant 06_02_01', 'Ant 06_02_02', 'Ant 06_02_03', 'Ant 06_02_04', 'Ant 06_02_05', 'Ant 06_02_06', 'Ant 06_02_07', 'Ant 06_02_08', 'Ant 06_02_09', 'Ant 06_02_10', 'Ant 07_01_01', 'Ant 07_01_02', 'Ant 07_01_03', 'Ant 07_01_04', 'Ant 07_01_05', 'Ant 07_01_06', 'Ant 07_14_01', 'Ant 07_02', 'Ant 07_03', 'Ant 07_04', 'Ant 07_05', 'Ant 07_06', 'Ant 07_07', 'Ant 07_08', 'Ant 07_09', 'Ant 07_10', 'Ant 07_12', 'Ant 07_13', 'Ant 08_01_01', 'Ant 08_02_01_01', 'Ant 08_02_01_02', 'Ant 08_02_02_01', 'Ant 08_02_02_02', 'Ant 08_02_03_01', 'Ant 08_03_01', 'Ant 09_01_01', 'Ant 09_01_02', 'Ant 09_02', 'Ant 09_03', 'Ant 09_04_01', 'Ant 09_04_02', 'Ant 09_05', 'Ant 09_06', 'Ant 09_07', 'Ant 09_08', 'Ant 09_10_01', 'Ant 09_10_02', 'Ant 09_11_01', 'Ant 09_11_02', 'Ant 09_11_03', 'Ant 09_12_01', 'Ant 09_12_02', 'Ant 09_12_03', 'Ant 10_01']\n"
     ]
    }
   ],
   "source": [
    "# Oppg. 1\n",
    "\n",
    "import polars as pl\n",
    "\n",
    "df1 = pl.read_csv(\"PKK-2024-kvartal3/PKK-2024-kvartal3.csv\", encoding=\"latin-1\")\n",
    "df2 = pl.read_csv(\"PKK-2024-kvartal4/PKK-2024-kvartal4.csv\", encoding=\"latin-1\")\n",
    "\n",
    "\n",
    "\n",
    "df = pl.concat([df1, df2])\n",
    "\n",
    "print(df.columns)"
   ]
  },
  {
   "cell_type": "code",
   "execution_count": 4,
   "id": "45f97fbf-47ea-470a-a35d-9298277536eb",
   "metadata": {},
   "outputs": [
    {
     "name": "stdout",
     "output_type": "stream",
     "text": [
      "shape: (993_661, 2)\n",
      "┌─────────────────┬───────────────────────────┐\n",
      "│ Godkjent (bool) ┆ Trafikkfarlig feil (bool) │\n",
      "│ ---             ┆ ---                       │\n",
      "│ bool            ┆ bool                      │\n",
      "╞═════════════════╪═══════════════════════════╡\n",
      "│ true            ┆ false                     │\n",
      "│ true            ┆ false                     │\n",
      "│ true            ┆ false                     │\n",
      "│ true            ┆ false                     │\n",
      "│ true            ┆ false                     │\n",
      "│ …               ┆ …                         │\n",
      "│ true            ┆ false                     │\n",
      "│ true            ┆ false                     │\n",
      "│ false           ┆ false                     │\n",
      "│ true            ┆ false                     │\n",
      "│ true            ┆ false                     │\n",
      "└─────────────────┴───────────────────────────┘\n"
     ]
    }
   ],
   "source": [
    "# Oppg. 2\n",
    "\n",
    "df = df.with_columns(\n",
    "    pl.col(\"Godkjent\").eq(pl.lit(\"Ja\")).alias(\"Godkjent (bool)\"),\n",
    "    pl.col(\"Trafikkfarlig feil\").eq(pl.lit(\"Ja\")).alias(\"Trafikkfarlig feil (bool)\")\n",
    ")\n",
    "\n",
    "df.drop([\"Godkjent\", \"Trafikkfarlig feil\"])\n",
    "\n",
    "print(df[[\"Godkjent (bool)\", \"Trafikkfarlig feil (bool)\"]])"
   ]
  },
  {
   "cell_type": "code",
   "execution_count": 5,
   "id": "3083f040-60c0-4514-b6dd-b1d84498e78d",
   "metadata": {},
   "outputs": [
    {
     "name": "stdout",
     "output_type": "stream",
     "text": [
      "shape: (993_661, 4)\n",
      "┌────────────────┬───────────────────┬─────────────┬────────────────┐\n",
      "│ PKK Kontrollår ┆ PKK Kontrollmåned ┆ PKK Fristår ┆ PKK Fristmåned │\n",
      "│ ---            ┆ ---               ┆ ---         ┆ ---            │\n",
      "│ u16            ┆ u8                ┆ u16         ┆ u8             │\n",
      "╞════════════════╪═══════════════════╪═════════════╪════════════════╡\n",
      "│ 2024           ┆ 7                 ┆ 2024        ┆ 7              │\n",
      "│ 2024           ┆ 7                 ┆ 2024        ┆ 6              │\n",
      "│ 2024           ┆ 7                 ┆ 2024        ┆ 8              │\n",
      "│ 2024           ┆ 7                 ┆ 2024        ┆ 8              │\n",
      "│ 2024           ┆ 7                 ┆ 2024        ┆ 7              │\n",
      "│ …              ┆ …                 ┆ …           ┆ …              │\n",
      "│ 2024           ┆ 12                ┆ 2025        ┆ 1              │\n",
      "│ 2024           ┆ 12                ┆ 2024        ┆ 1              │\n",
      "│ 2024           ┆ 12                ┆ 2025        ┆ 2              │\n",
      "│ 2024           ┆ 12                ┆ 2025        ┆ 1              │\n",
      "│ 2024           ┆ 12                ┆ 2024        ┆ 2              │\n",
      "└────────────────┴───────────────────┴─────────────┴────────────────┘\n"
     ]
    }
   ],
   "source": [
    "# Oppg. 3\n",
    "\n",
    "\n",
    "\n",
    "df = df.with_columns(\n",
    "    pl.col(\"PKK Kontrollmåned\").cast(str).str.slice(0, 4).cast(pl.UInt16).alias(\"PKK Kontrollår\"),\n",
    "    pl.col(\"PKK Kontrollmåned\").cast(str).str.slice(4, 2).cast(pl.UInt8, strict=False).alias(\"PKK Kontrollmåned\"), #her hadde jeg ugyldige verdier og strict=False gjør at disse verdiene blir NULL\n",
    "    pl.col(\"PKK Frist\").cast(str).str.slice(0, 4).cast(pl.UInt16).alias(\"PKK Fristår\"),\n",
    "    pl.col(\"PKK Frist\").cast(str).str.slice(5, 2).cast(pl.UInt8).alias(\"PKK Fristmåned\")\n",
    "\n",
    ")\n",
    "\n",
    "df.drop([\"PKK Frist\"])\n",
    "\n",
    "print (df[[\"PKK Kontrollår\", \"PKK Kontrollmåned\", \"PKK Fristår\", \"PKK Fristmåned\"]])"
   ]
  },
  {
   "cell_type": "code",
   "execution_count": 6,
   "id": "11933635-a15a-4cec-8cae-236054a3c502",
   "metadata": {},
   "outputs": [
    {
     "name": "stdout",
     "output_type": "stream",
     "text": [
      "shape: (993_661, 209)\n",
      "┌─────────────────────────┬────────────────────────┬──────────────────────────┬───────────────┬───┬────────────────┬─────────────┬────────────────┬─────────────────────┐\n",
      "│ Kontrollinstruksversjon ┆ Første gang registrert ┆ Første gang registrert i ┆ Kjøretøymerke ┆ … ┆ PKK Kontrollår ┆ PKK Fristår ┆ PKK Fristmåned ┆ Tillatt totalvekt   │\n",
      "│ ---                     ┆ ---                    ┆ Norge                    ┆ ---           ┆   ┆ ---            ┆ ---         ┆ ---            ┆ ---                 │\n",
      "│ i64                     ┆ i64                    ┆ ---                      ┆ str           ┆   ┆ u16            ┆ u16         ┆ u8             ┆ str                 │\n",
      "│                         ┆                        ┆ i64                      ┆               ┆   ┆                ┆             ┆                ┆                     │\n",
      "╞═════════════════════════╪════════════════════════╪══════════════════════════╪═══════════════╪═══╪════════════════╪═════════════╪════════════════╪═════════════════════╡\n",
      "│ 4                       ┆ 2006                   ┆ 2006                     ┆ FORD          ┆ … ┆ 2024           ┆ 2024        ┆ 7              ┆ Opp til og med 3500 │\n",
      "│ 4                       ┆ 2004                   ┆ 2004                     ┆ VOLKSWAGEN    ┆ … ┆ 2024           ┆ 2024        ┆ 6              ┆ Opp til og med 3500 │\n",
      "│ 4                       ┆ 2012                   ┆ 2012                     ┆ TOYOTA        ┆ … ┆ 2024           ┆ 2024        ┆ 8              ┆ Opp til og med 3500 │\n",
      "│ 4                       ┆ 2010                   ┆ 2010                     ┆ VOLKSWAGEN    ┆ … ┆ 2024           ┆ 2024        ┆ 8              ┆ Opp til og med 3500 │\n",
      "│ 4                       ┆ 1990                   ┆ 1990                     ┆ VOLVO         ┆ … ┆ 2024           ┆ 2024        ┆ 7              ┆ Opp til og med 3500 │\n",
      "│ …                       ┆ …                      ┆ …                        ┆ …             ┆ … ┆ …              ┆ …           ┆ …              ┆ …                   │\n",
      "│ 4                       ┆ 2005                   ┆ 2007                     ┆ MERCEDES-BENZ ┆ … ┆ 2024           ┆ 2025        ┆ 1              ┆ Opp til og med 3500 │\n",
      "│ 4                       ┆ 2010                   ┆ 2010                     ┆ MAZDA         ┆ … ┆ 2024           ┆ 2024        ┆ 1              ┆ Opp til og med 3500 │\n",
      "│ 4                       ┆ 2018                   ┆ 2018                     ┆ MERCEDES-BENZ ┆ … ┆ 2024           ┆ 2025        ┆ 2              ┆ over 7500           │\n",
      "│ 4                       ┆ 2023                   ┆ 2023                     ┆ HRD           ┆ … ┆ 2024           ┆ 2025        ┆ 1              ┆ over 7500           │\n",
      "│ 4                       ┆ 2005                   ┆ 2009                     ┆ CITROEN       ┆ … ┆ 2024           ┆ 2024        ┆ 2              ┆ Opp til og med 3500 │\n",
      "└─────────────────────────┴────────────────────────┴──────────────────────────┴───────────────┴───┴────────────────┴─────────────┴────────────────┴─────────────────────┘\n"
     ]
    }
   ],
   "source": [
    "# Oppg. 4 \n",
    "\n",
    "df = df.with_columns(\n",
    "    pl.when(pl.col(\"Tillatt totalvekt opp til og med 3500\") != \"\").then(pl.lit(\"Opp til og med 3500\"))\n",
    "    .when(pl.col(\"Tillatt totalvekt 3501-7500\") != \"\").then(pl.lit(\"3501-7500\")) \n",
    "    .when(pl.col(\"Tillatt totalvekt over 7500\") != \"\").then(pl.lit(\"over 7500\"))\n",
    "    .otherwise(pl.lit(\"NULL\"))\n",
    "    .alias(\"Tillatt totalvekt\")\n",
    ")\n",
    "\n",
    "df.drop([\"Tillatt totalvekt opp til og med 3500\", \"Tillatt totalvekt 3501-7500\", \"Tillatt totalvekt over 7500\"])\n",
    "print(df)"
   ]
  },
  {
   "cell_type": "markdown",
   "id": "1fe626e7-359d-4deb-92a0-617a0dacc9e3",
   "metadata": {},
   "source": [
    "<h1>Serialisering og de-serialisering</h1>"
   ]
  },
  {
   "cell_type": "code",
   "execution_count": 7,
   "id": "36603866-87af-4e6d-b1f3-fb510930370e",
   "metadata": {},
   "outputs": [
    {
     "name": "stdout",
     "output_type": "stream",
     "text": [
      "CPU times: total: 0 ns\n",
      "Wall time: 18.1 μs\n"
     ]
    }
   ],
   "source": [
    "# Oppg. 1\n",
    "%time\n",
    "\n",
    "df.write_csv(\"PKK_2024_Q3-4.csv\")"
   ]
  },
  {
   "cell_type": "code",
   "execution_count": 8,
   "id": "f949e526-b79a-456a-aefa-27037a5dfe55",
   "metadata": {},
   "outputs": [
    {
     "name": "stdout",
     "output_type": "stream",
     "text": [
      "CPU times: total: 0 ns\n",
      "Wall time: 13.6 μs\n"
     ]
    }
   ],
   "source": [
    "# Oppg. 2\n",
    "%time\n",
    "\n",
    "df.write_parquet(\"PKK_2024_Q3-4.parquet\", compression = 'uncompressed')"
   ]
  },
  {
   "cell_type": "code",
   "execution_count": 9,
   "id": "601df3b1-c2cb-41c0-9bfc-7bdaa739dcdf",
   "metadata": {},
   "outputs": [
    {
     "name": "stdout",
     "output_type": "stream",
     "text": [
      "CPU times: total: 0 ns\n",
      "Wall time: 9.3 μs\n"
     ]
    }
   ],
   "source": [
    "%time\n",
    "\n",
    "df.write_parquet(\"PKK_2024_Q3-4_komprimert.parquet\", compression = 'zstd')"
   ]
  },
  {
   "cell_type": "code",
   "execution_count": 40,
   "id": "86b3383a-0db6-46ef-a33a-a48dcf2d4909",
   "metadata": {},
   "outputs": [
    {
     "data": {
      "text/plain": [
       "'\\nÅ skrive en CSV-fil tar over dobbelt så lang tid som en ukomprimert Parquet-fil. En komprimert Parquet-fil sparer svært mye tid.\\nStørrelse på CSV: 497 MB\\nStørrelse på ukomprimert Parquet-fil: 12.2 MB \\n'"
      ]
     },
     "execution_count": 40,
     "metadata": {},
     "output_type": "execute_result"
    }
   ],
   "source": [
    "# Oppg. 3\n",
    "\n",
    "\"\"\"\n",
    "Wall time CSV:  160 μs\n",
    "Wall time ukomprimert Parquet: 24.3 μs\n",
    "Wall time komprimert Parquet: 12.2 μs\n",
    "\n",
    "Størrelse på CSV: 489 MB\n",
    "Størrelse på ukomprimert Parquet-fil: 20.9 MB \n",
    "Størrelse på komprimert Parquet-fil: 12.1 MB\n",
    "\n",
    "Fordelene med Parquet er at de er mindre filer og skrives raskere, og en komprimert Parquet-fil sparer spesielt mye tid og plass, \n",
    "men CSV-filer kan leses i en vanlig teksteditor, noe Parquet-filer ikke kan.\n",
    "\"\"\""
   ]
  },
  {
   "cell_type": "code",
   "execution_count": 10,
   "id": "b231bef4-4694-49ef-b090-6dc09279dc8c",
   "metadata": {},
   "outputs": [
    {
     "name": "stdout",
     "output_type": "stream",
     "text": [
      "CPU times: total: 0 ns\n",
      "Wall time: 18.4 μs\n"
     ]
    }
   ],
   "source": [
    "# Oppg. 4\n",
    "\n",
    "%time\n",
    "df_c = pl.read_csv(\"PKK_2024_Q3-4.csv\")"
   ]
  },
  {
   "cell_type": "code",
   "execution_count": 11,
   "id": "68c5ec7e-6234-4952-9289-94e9464f7d24",
   "metadata": {},
   "outputs": [
    {
     "name": "stdout",
     "output_type": "stream",
     "text": [
      "CPU times: total: 0 ns\n",
      "Wall time: 9.78 μs\n",
      "['Kontrollinstruksversjon', 'Første gang registrert', 'Første gang registrert i Norge', 'Kjøretøymerke', 'Kjøretøy Modell', 'Kjøretøy Merkekode', 'Kjøretøy Gruppekode', 'Kjøretøy Gruppeavgift', 'Kjøretøy Tekniskgruppe', 'Drivstofftype', 'Kilometerstand', 'Tillatt totalvekt opp til og med 3500', 'Tillatt totalvekt 3501-7500', 'Tillatt totalvekt over 7500', 'PKK Kontrolltype', 'PKK Kontrollmåned', 'PKK Intervall', 'PKK Frist', 'Trafikkfarlig feil', 'Godkjent', 'Kontrollorganets fylke', 'Kontrollorganets fylkesnummer', 'Ant 1er merknad', 'Ant 2er merknad', 'Ant 3er merknad', 'Ant 4er merknad', 'Ant 2-3er kap 0', 'Ant 2-3er kap 1', 'Ant 2-3er kap 2', 'Ant 2-3er kap 3', 'Ant 2-3er kap 4', 'Ant 2-3er kap 5', 'Ant 2-3er kap 6', 'Ant 2-3er kap 7', 'Ant 2-3er kap 8', 'Ant 2-3er kap 9', 'Ant 2-3er kap 10', 'Ant 00_01', 'Ant 00_02', 'Ant 01_01_01', 'Ant 01_01_02', 'Ant 01_01_03', 'Ant 01_01_04', 'Ant 01_01_05', 'Ant 01_01_06', 'Ant 01_01_07', 'Ant 01_01_08', 'Ant 01_01_09', 'Ant 01_01_10', 'Ant 01_01_11', 'Ant 01_01_12', 'Ant 01_01_13', 'Ant 01_01_14', 'Ant 01_01_15', 'Ant 01_01_16', 'Ant 01_01_17', 'Ant 01_01_18', 'Ant 01_01_19', 'Ant 01_01_20', 'Ant 01_01_21', 'Ant 01_01_22', 'Ant 01_01_23', 'Ant 01_01_24', 'Ant 01_01_25', 'Ant 01_02_01', 'Ant 01_02_02', 'Ant 01_03_01', 'Ant 01_03_02', 'Ant 01_04_01', 'Ant 01_04_02', 'Ant 01_05', 'Ant 01_06', 'Ant 01_07', 'Ant 01_08', 'Ant 02_01_01', 'Ant 02_01_02', 'Ant 02_01_03', 'Ant 02_01_04', 'Ant 02_01_05', 'Ant 02_02_01', 'Ant 02_02_02', 'Ant 02_03', 'Ant 02_04', 'Ant 02_05', 'Ant 02_06', 'Ant 02_07', 'Ant 03_01', 'Ant 03_02', 'Ant 03_03', 'Ant 03_04', 'Ant 03_05', 'Ant 03_06', 'Ant 04_01_01', 'Ant 04_01_02', 'Ant 04_01_03', 'Ant 04_01_04', 'Ant 04_01_05', 'Ant 04_01_06', 'Ant 04_02_01', 'Ant 04_02_02', 'Ant 04_02_03', 'Ant 04_03_01', 'Ant 04_03_02', 'Ant 04_03_03', 'Ant 04_04_01', 'Ant 04_04_02', 'Ant 04_04_03', 'Ant 04_04_04', 'Ant 04_05_01', 'Ant 04_05_02', 'Ant 04_05_03', 'Ant 04_05_04', 'Ant 04_06_01', 'Ant 04_06_02', 'Ant 04_06_03', 'Ant 04_07_01', 'Ant 04_07_02', 'Ant 04_08_01', 'Ant 04_08_02', 'Ant 04_09_01', 'Ant 04_09_02', 'Ant 04_10', 'Ant 04_11', 'Ant 04_12', 'Ant 04_13', 'Ant 04_14_01', 'Ant 04_14_02', 'Ant 04_14_03', 'Ant 04_14_04', 'Ant 05_01_01', 'Ant 05_01_02', 'Ant 05_01_03', 'Ant 05_02_01', 'Ant 05_02_02', 'Ant 05_02_03', 'Ant 05_03_01', 'Ant 05_03_02', 'Ant 05_03_03', 'Ant 05_03_04', 'Ant 05_03_05', 'Ant 06_01_01', 'Ant 06_01_02', 'Ant 06_01_03', 'Ant 06_01_04', 'Ant 06_01_05', 'Ant 06_01_06', 'Ant 06_01_07', 'Ant 06_01_08', 'Ant 06_01_09', 'Ant 06_02_01', 'Ant 06_02_02', 'Ant 06_02_03', 'Ant 06_02_04', 'Ant 06_02_05', 'Ant 06_02_06', 'Ant 06_02_07', 'Ant 06_02_08', 'Ant 06_02_09', 'Ant 06_02_10', 'Ant 07_01_01', 'Ant 07_01_02', 'Ant 07_01_03', 'Ant 07_01_04', 'Ant 07_01_05', 'Ant 07_01_06', 'Ant 07_14_01', 'Ant 07_02', 'Ant 07_03', 'Ant 07_04', 'Ant 07_05', 'Ant 07_06', 'Ant 07_07', 'Ant 07_08', 'Ant 07_09', 'Ant 07_10', 'Ant 07_12', 'Ant 07_13', 'Ant 08_01_01', 'Ant 08_02_01_01', 'Ant 08_02_01_02', 'Ant 08_02_02_01', 'Ant 08_02_02_02', 'Ant 08_02_03_01', 'Ant 08_03_01', 'Ant 09_01_01', 'Ant 09_01_02', 'Ant 09_02', 'Ant 09_03', 'Ant 09_04_01', 'Ant 09_04_02', 'Ant 09_05', 'Ant 09_06', 'Ant 09_07', 'Ant 09_08', 'Ant 09_10_01', 'Ant 09_10_02', 'Ant 09_11_01', 'Ant 09_11_02', 'Ant 09_11_03', 'Ant 09_12_01', 'Ant 09_12_02', 'Ant 09_12_03', 'Ant 10_01', 'Godkjent (bool)', 'Trafikkfarlig feil (bool)', 'PKK Kontrollår', 'PKK Fristår', 'PKK Fristmåned', 'Tillatt totalvekt']\n"
     ]
    }
   ],
   "source": [
    "%time\n",
    "\n",
    "df_k = pl.read_parquet(\"PKK_2024_Q3-4_komprimert.parquet\")\n",
    "\n",
    "print(df_k.columns)"
   ]
  },
  {
   "cell_type": "code",
   "execution_count": null,
   "id": "1601291b-1fa0-47a1-b2e8-fcd9c9fbd2a8",
   "metadata": {},
   "outputs": [],
   "source": [
    "\"\"\"\n",
    "Wall time for CSV-fil:  70.1 μs\n",
    "Wall time for komprimert Parquet-fil:  16.5 μs\n",
    "\"\"\"\n"
   ]
  },
  {
   "cell_type": "code",
   "execution_count": 12,
   "id": "9b777592-8ac3-40ce-b56a-3db29520fbdf",
   "metadata": {},
   "outputs": [
    {
     "name": "stdout",
     "output_type": "stream",
     "text": [
      "CPU times: total: 0 ns\n",
      "Wall time: 14.1 μs\n",
      "shape: (348_010, 4)\n",
      "┌─────────────────┬─────────────────┬────────────────┬──────────┐\n",
      "│ Kjøretøymerke   ┆ Kjøretøy Modell ┆ PKK Kontrollår ┆ Godkjent │\n",
      "│ ---             ┆ ---             ┆ ---            ┆ ---      │\n",
      "│ str             ┆ str             ┆ i64            ┆ str      │\n",
      "╞═════════════════╪═════════════════╪════════════════╪══════════╡\n",
      "│ MASSEY-FERGUSON ┆ 7726            ┆ 2024           ┆ Nei      │\n",
      "│ VOLKSWAGEN      ┆ CADDY           ┆ 2024           ┆ Nei      │\n",
      "│ CITROEN         ┆ C4 CACTUS       ┆ 2024           ┆ Nei      │\n",
      "│ FIAT            ┆ 500E            ┆ 2024           ┆ Nei      │\n",
      "│ PEUGEOT         ┆ PARTNER         ┆ 2024           ┆ Nei      │\n",
      "│ …               ┆ …               ┆ …              ┆ …        │\n",
      "│ SKODA           ┆ OCTAVIA         ┆ 2024           ┆ Nei      │\n",
      "│ TOYOTA          ┆ TOYOTA COROLLA  ┆ 2024           ┆ Nei      │\n",
      "│ PEUGEOT         ┆ 3008            ┆ 2024           ┆ Nei      │\n",
      "│ TOYOTA          ┆ HIACE           ┆ 2024           ┆ Nei      │\n",
      "│ MERCEDES-BENZ   ┆ Arocs           ┆ 2024           ┆ Nei      │\n",
      "└─────────────────┴─────────────────┴────────────────┴──────────┘\n"
     ]
    }
   ],
   "source": [
    "# Oppg. 5\n",
    "\n",
    "%time\n",
    "\n",
    "lf = pl.scan_csv(\"PKK_2024_Q3-4.csv\")\n",
    "utvalg = lf.select(\n",
    "    \"Kjøretøymerke\",\n",
    "    \"Kjøretøy Modell\",\n",
    "    \"PKK Kontrollår\",\n",
    "    \"Godkjent\"\n",
    ").filter(\n",
    "    pl.col(\"Godkjent\").is_in([\"Nei\"])\n",
    ").collect()\n",
    "\n",
    "\n",
    "print(utvalg)\n"
   ]
  },
  {
   "cell_type": "code",
   "execution_count": 13,
   "id": "e5a0d270-47e4-46f7-8a12-3d14e5ae2657",
   "metadata": {},
   "outputs": [
    {
     "name": "stdout",
     "output_type": "stream",
     "text": [
      "CPU times: total: 0 ns\n",
      "Wall time: 15.3 μs\n",
      "shape: (348_010, 4)\n",
      "┌─────────────────┬─────────────────┬────────────────┬──────────┐\n",
      "│ Kjøretøymerke   ┆ Kjøretøy Modell ┆ PKK Kontrollår ┆ Godkjent │\n",
      "│ ---             ┆ ---             ┆ ---            ┆ ---      │\n",
      "│ str             ┆ str             ┆ u16            ┆ str      │\n",
      "╞═════════════════╪═════════════════╪════════════════╪══════════╡\n",
      "│ MASSEY-FERGUSON ┆ 7726            ┆ 2024           ┆ Nei      │\n",
      "│ VOLKSWAGEN      ┆ CADDY           ┆ 2024           ┆ Nei      │\n",
      "│ CITROEN         ┆ C4 CACTUS       ┆ 2024           ┆ Nei      │\n",
      "│ FIAT            ┆ 500E            ┆ 2024           ┆ Nei      │\n",
      "│ PEUGEOT         ┆ PARTNER         ┆ 2024           ┆ Nei      │\n",
      "│ …               ┆ …               ┆ …              ┆ …        │\n",
      "│ SKODA           ┆ OCTAVIA         ┆ 2024           ┆ Nei      │\n",
      "│ TOYOTA          ┆ TOYOTA COROLLA  ┆ 2024           ┆ Nei      │\n",
      "│ PEUGEOT         ┆ 3008            ┆ 2024           ┆ Nei      │\n",
      "│ TOYOTA          ┆ HIACE           ┆ 2024           ┆ Nei      │\n",
      "│ MERCEDES-BENZ   ┆ Arocs           ┆ 2024           ┆ Nei      │\n",
      "└─────────────────┴─────────────────┴────────────────┴──────────┘\n"
     ]
    }
   ],
   "source": [
    "%time\n",
    "\n",
    "lf = pl.scan_parquet(\"PKK_2024_Q3-4_komprimert.parquet\")\n",
    "utvalg = lf.select(\n",
    "    \"Kjøretøymerke\",\n",
    "    \"Kjøretøy Modell\",\n",
    "    \"PKK Kontrollår\",\n",
    "    \"Godkjent\"\n",
    ").filter(\n",
    "    pl.col(\"Godkjent\").is_in([\"Nei\"])\n",
    ").collect()\n",
    "\n",
    "\n",
    "print(utvalg)"
   ]
  },
  {
   "cell_type": "code",
   "execution_count": null,
   "id": "37e2eca5-fb01-463d-8b9c-1e1cbf8daf80",
   "metadata": {},
   "outputs": [],
   "source": [
    "\"\"\"\n",
    "Wall time for skanning av CSV: 91.8 μs\n",
    "Wall time for skanning av komprimert Parquet: 14.3 μs\n",
    "Siden Parquet er kolonnebasert og CSV er radbasert, så egner Parquet seg spesielt godt til lesing av kolonner.\n",
    "\"\"\""
   ]
  },
  {
   "cell_type": "markdown",
   "id": "d30269db-71d8-4f86-aba1-63ca7362fe5e",
   "metadata": {},
   "source": [
    "<h1>Analyse</h1>"
   ]
  },
  {
   "cell_type": "code",
   "execution_count": 14,
   "id": "a09e5a2d-1c60-4a2d-ad6c-9f85082e54ac",
   "metadata": {},
   "outputs": [
    {
     "name": "stdout",
     "output_type": "stream",
     "text": [
      "shape: (818,)\n",
      "Series: 'Kjøretøymerke' [str]\n",
      "[\n",
      "\t\"FORD\"\n",
      "\t\"VOLKSWAGEN\"\n",
      "\t\"TOYOTA\"\n",
      "\t\"VOLVO\"\n",
      "\t\"SKODA\"\n",
      "\t…\n",
      "\t\"Nova \"\n",
      "\t\"GS MEPPEL\"\n",
      "\t\"WBL-HOFFMANN\"\n",
      "\t\"AUTO BJØRN\"\n",
      "\t\"ACCURA\"\n",
      "]\n"
     ]
    }
   ],
   "source": [
    "# Oppg. 1\n",
    "\n",
    "unikeBilmerker = df_k.unique(subset=[\"Kjøretøymerke\"], maintain_order=True)\n",
    "\n",
    "print(unikeBilmerker[\"Kjøretøymerke\"])"
   ]
  },
  {
   "cell_type": "code",
   "execution_count": 15,
   "id": "e91a8a2c-0212-4175-8b91-05443eb4a340",
   "metadata": {},
   "outputs": [
    {
     "name": "stdout",
     "output_type": "stream",
     "text": [
      "shape: (3, 2)\n",
      "┌───────────────┬──────────────────────┐\n",
      "│ Kjøretøymerke ┆ Antall EU-kontroller │\n",
      "│ ---           ┆ ---                  │\n",
      "│ str           ┆ u32                  │\n",
      "╞═══════════════╪══════════════════════╡\n",
      "│ VOLKSWAGEN    ┆ 149575               │\n",
      "│ TOYOTA        ┆ 117573               │\n",
      "│ VOLVO         ┆ 79764                │\n",
      "└───────────────┴──────────────────────┘\n"
     ]
    }
   ],
   "source": [
    "# Oppg. 2\n",
    "\n",
    " \n",
    "flest_EU = (\n",
    "    df_k.group_by(\"Kjøretøymerke\") \n",
    "    .agg(pl.col(\"Godkjent\").count().alias(\"Antall EU-kontroller\")) \n",
    "    .sort(\"Antall EU-kontroller\", descending=True) \n",
    "    .head(3) \n",
    ")\n",
    "print(flest_EU)"
   ]
  },
  {
   "cell_type": "code",
   "execution_count": 16,
   "id": "8d2dabfe-78b4-4359-a4ed-45ffaa9173a5",
   "metadata": {},
   "outputs": [
    {
     "name": "stdout",
     "output_type": "stream",
     "text": [
      "shape: (264, 4)\n",
      "┌───────────────┬─────────────────────┬───────────────────────┬───────────────┐\n",
      "│ Kjøretøymerke ┆ Kjøretøy Modell     ┆ Kjøretøy Gruppeavgift ┆ Drivstofftype │\n",
      "│ ---           ┆ ---                 ┆ ---                   ┆ ---           │\n",
      "│ str           ┆ str                 ┆ str                   ┆ str           │\n",
      "╞═══════════════╪═════════════════════╪═══════════════════════╪═══════════════╡\n",
      "│ AUDI          ┆ e-tron Sportback 55 ┆ PERSONBIL             ┆ Elektrisk     │\n",
      "│ AUDI          ┆ e-tron Sportback 50 ┆ PERSONBIL             ┆ Elektrisk     │\n",
      "│ AUDI          ┆ e-tron 50           ┆ PERSONBIL             ┆ Elektrisk     │\n",
      "│ AUDI          ┆ e-tron 55           ┆ PERSONBIL             ┆ Elektrisk     │\n",
      "│ AUDI          ┆ Audi e-tron         ┆ PERSONBIL             ┆ Elektrisk     │\n",
      "│ …             ┆ …                   ┆ …                     ┆ …             │\n",
      "│ XPENG         ┆ G3                  ┆ PERSONBIL             ┆ Elektrisk     │\n",
      "│ XPENG         ┆ P7                  ┆ PERSONBIL             ┆ Elektrisk     │\n",
      "│ XPENG         ┆ P7,P7i              ┆ PERSONBIL             ┆ Elektrisk     │\n",
      "│ XPENG         ┆ G9                  ┆ PERSONBIL             ┆ Elektrisk     │\n",
      "│ XPENG         ┆ G3i                 ┆ PERSONBIL             ┆ Elektrisk     │\n",
      "└───────────────┴─────────────────────┴───────────────────────┴───────────────┘\n"
     ]
    }
   ],
   "source": [
    "# Oppg. 3 \n",
    "\n",
    "elektrisk_persbil = (\n",
    "    df_k.filter(\n",
    "        (pl.col(\"Kjøretøy Gruppeavgift\") == \"PERSONBIL\") & \n",
    "        (pl.col(\"Drivstofftype\") == \"Elektrisk\")\n",
    "    )\n",
    "    .select([\"Kjøretøy Gruppeavgift\", \"Drivstofftype\", \"Kjøretøymerke\", \"Kjøretøy Modell\"])\n",
    "    .unique(subset=[\"Kjøretøymerke\", \"Kjøretøy Modell\"], keep=\"first\", maintain_order=True) \n",
    "    .sort(\"Kjøretøymerke\")\n",
    ")\n",
    "\n",
    "print(elektrisk_persbil[\"Kjøretøymerke\", \"Kjøretøy Modell\", \"Kjøretøy Gruppeavgift\", \"Drivstofftype\"]) #tar med gruppeavgift og drivstofftype for å sjekke at filteret funket."
   ]
  },
  {
   "cell_type": "code",
   "execution_count": 17,
   "id": "643e5dde-96bf-4d72-95ba-89cd5a1a3b81",
   "metadata": {},
   "outputs": [
    {
     "name": "stdout",
     "output_type": "stream",
     "text": [
      "shape: (993_661,)\n",
      "Series: 'Alder ved kontroll' [i64]\n",
      "[\n",
      "\t18\n",
      "\t20\n",
      "\t12\n",
      "\t14\n",
      "\t34\n",
      "\t…\n",
      "\t19\n",
      "\t14\n",
      "\t6\n",
      "\t1\n",
      "\t19\n",
      "]\n"
     ]
    }
   ],
   "source": [
    "# Oppg. 4\n",
    "\n",
    "kontrollAlder = df_k.with_columns(\n",
    "    (pl.col(\"PKK Kontrollår\") - pl.col(\"Første gang registrert\"))\n",
    "    .alias(\"Alder ved kontroll\")\n",
    ")\n",
    "\n",
    "print(kontrollAlder[\"Alder ved kontroll\"])"
   ]
  },
  {
   "cell_type": "code",
   "execution_count": 18,
   "id": "d1188197-3361-4ac1-97f6-c18a774559c8",
   "metadata": {},
   "outputs": [
    {
     "name": "stdout",
     "output_type": "stream",
     "text": [
      "shape: (7_392, 3)\n",
      "┌─────────────────┬────────────────────┬───────────────────────────┐\n",
      "│ Kjøretøymerke   ┆ Alder ved kontroll ┆ Andel godkjente i prosent │\n",
      "│ ---             ┆ ---                ┆ ---                       │\n",
      "│ str             ┆ i64                ┆ f64                       │\n",
      "╞═════════════════╪════════════════════╪═══════════════════════════╡\n",
      "│ KARMANN MOBIL   ┆ 30                 ┆ 100.0                     │\n",
      "│ ROLLS-ROYCE     ┆ 3                  ┆ 100.0                     │\n",
      "│ TESLA MOTORS    ┆ 42                 ┆ 100.0                     │\n",
      "│ MAN             ┆ 48                 ┆ 100.0                     │\n",
      "│ HYMER           ┆ 51                 ┆ 100.0                     │\n",
      "│ …               ┆ …                  ┆ …                         │\n",
      "│ LAG             ┆ 30                 ┆ 0.0                       │\n",
      "│ MASSEY-FERGUSON ┆ 1                  ┆ 0.0                       │\n",
      "│ OVOX            ┆ 16                 ┆ 0.0                       │\n",
      "│ VBI             ┆ 16                 ┆ 0.0                       │\n",
      "│ CASE            ┆ 21                 ┆ 0.0                       │\n",
      "└─────────────────┴────────────────────┴───────────────────────────┘\n"
     ]
    }
   ],
   "source": [
    "# Oppg. 5\n",
    "\n",
    "df_andel = (\n",
    "    df_k.filter(pl.col(\"PKK Kontrolltype\") == \"Periodisk\")\n",
    "    .group_by([\"Kjøretøymerke\", kontrollAlder[\"Alder ved kontroll\"]])\n",
    "    .agg(\n",
    "        ((pl.col(\"Godkjent\") == \"Ja\").sum() / pl.col(\"Godkjent\").count() * 100)\n",
    "        .round(2)\n",
    "        .alias(\"Andel godkjente i prosent\")\n",
    "    )\n",
    "    .sort(\"Andel godkjente i prosent\", descending=True)\n",
    ")\n",
    "print(df_andel)"
   ]
  },
  {
   "cell_type": "code",
   "execution_count": 26,
   "id": "8873a1a6-eda6-43a9-aed2-95ad17cf48fa",
   "metadata": {},
   "outputs": [
    {
     "name": "stderr",
     "output_type": "stream",
     "text": [
      "C:\\Users\\trudy\\AppData\\Local\\Temp\\ipykernel_4744\\1115215867.py:5: DeprecationWarning: `GroupBy.count` is deprecated. It has been renamed to `len`.\n",
      "  .group_by(\"Kjøretøymerke\").count()\n"
     ]
    },
    {
     "name": "stdout",
     "output_type": "stream",
     "text": [
      "shape: (3, 3)\n",
      "┌───────────────┬────────────────────┬───────────────────────────┐\n",
      "│ Kjøretøymerke ┆ Alder ved kontroll ┆ Andel godkjente i prosent │\n",
      "│ ---           ┆ ---                ┆ ---                       │\n",
      "│ str           ┆ i64                ┆ f64                       │\n",
      "╞═══════════════╪════════════════════╪═══════════════════════════╡\n",
      "│ VOLVO         ┆ 63                 ┆ 100.0                     │\n",
      "│ VOLVO         ┆ 49                 ┆ 84.62                     │\n",
      "│ TOYOTA        ┆ 61                 ┆ 80.0                      │\n",
      "└───────────────┴────────────────────┴───────────────────────────┘\n"
     ]
    }
   ],
   "source": [
    "# Oppg. 6\n",
    "\n",
    "topp3 = (\n",
    "    df_k.filter(pl.col(\"PKK Kontrolltype\") == \"Periodisk\") \n",
    "    .group_by(\"Kjøretøymerke\").count()\n",
    "    .sort(\"count\", descending=True)\n",
    "    .head(3)\n",
    "    \n",
    ")\n",
    "\n",
    "df_andel = df_andel.filter(pl.col(\"Kjøretøymerke\").is_in(topp3[\"Kjøretøymerke\"])).head(3) \n",
    "#måtte sette .head(3) her også for å kun få de tre øverste, så da er det kanskje poengløst å sette head(3) i topp3.\n",
    "\n",
    "print(df_andel)\n"
   ]
  },
  {
   "cell_type": "code",
   "execution_count": 30,
   "id": "baeb6965-cfd0-4ca8-a0a4-05ec63a8f004",
   "metadata": {},
   "outputs": [
    {
     "data": {
      "text/html": [
       "\n",
       "<style>\n",
       "  #altair-viz-f23d445aa1074e26b4913b906d2d611b.vega-embed {\n",
       "    width: 100%;\n",
       "    display: flex;\n",
       "  }\n",
       "\n",
       "  #altair-viz-f23d445aa1074e26b4913b906d2d611b.vega-embed details,\n",
       "  #altair-viz-f23d445aa1074e26b4913b906d2d611b.vega-embed details summary {\n",
       "    position: relative;\n",
       "  }\n",
       "</style>\n",
       "<div id=\"altair-viz-f23d445aa1074e26b4913b906d2d611b\"></div>\n",
       "<script type=\"text/javascript\">\n",
       "  var VEGA_DEBUG = (typeof VEGA_DEBUG == \"undefined\") ? {} : VEGA_DEBUG;\n",
       "  (function(spec, embedOpt){\n",
       "    let outputDiv = document.currentScript.previousElementSibling;\n",
       "    if (outputDiv.id !== \"altair-viz-f23d445aa1074e26b4913b906d2d611b\") {\n",
       "      outputDiv = document.getElementById(\"altair-viz-f23d445aa1074e26b4913b906d2d611b\");\n",
       "    }\n",
       "\n",
       "    const paths = {\n",
       "      \"vega\": \"https://cdn.jsdelivr.net/npm/vega@5?noext\",\n",
       "      \"vega-lib\": \"https://cdn.jsdelivr.net/npm/vega-lib?noext\",\n",
       "      \"vega-lite\": \"https://cdn.jsdelivr.net/npm/vega-lite@5.20.1?noext\",\n",
       "      \"vega-embed\": \"https://cdn.jsdelivr.net/npm/vega-embed@6?noext\",\n",
       "    };\n",
       "\n",
       "    function maybeLoadScript(lib, version) {\n",
       "      var key = `${lib.replace(\"-\", \"\")}_version`;\n",
       "      return (VEGA_DEBUG[key] == version) ?\n",
       "        Promise.resolve(paths[lib]) :\n",
       "        new Promise(function(resolve, reject) {\n",
       "          var s = document.createElement('script');\n",
       "          document.getElementsByTagName(\"head\")[0].appendChild(s);\n",
       "          s.async = true;\n",
       "          s.onload = () => {\n",
       "            VEGA_DEBUG[key] = version;\n",
       "            return resolve(paths[lib]);\n",
       "          };\n",
       "          s.onerror = () => reject(`Error loading script: ${paths[lib]}`);\n",
       "          s.src = paths[lib];\n",
       "        });\n",
       "    }\n",
       "\n",
       "    function showError(err) {\n",
       "      outputDiv.innerHTML = `<div class=\"error\" style=\"color:red;\">${err}</div>`;\n",
       "      throw err;\n",
       "    }\n",
       "\n",
       "    function displayChart(vegaEmbed) {\n",
       "      vegaEmbed(outputDiv, spec, embedOpt)\n",
       "        .catch(err => showError(`Javascript Error: ${err.message}<br>This usually means there's a typo in your chart specification. See the javascript console for the full traceback.`));\n",
       "    }\n",
       "\n",
       "    if(typeof define === \"function\" && define.amd) {\n",
       "      requirejs.config({paths});\n",
       "      let deps = [\"vega-embed\"];\n",
       "      require(deps, displayChart, err => showError(`Error loading script: ${err.message}`));\n",
       "    } else {\n",
       "      maybeLoadScript(\"vega\", \"5\")\n",
       "        .then(() => maybeLoadScript(\"vega-lite\", \"5.20.1\"))\n",
       "        .then(() => maybeLoadScript(\"vega-embed\", \"6\"))\n",
       "        .catch(showError)\n",
       "        .then(() => displayChart(vegaEmbed));\n",
       "    }\n",
       "  })({\"config\": {\"view\": {\"continuousWidth\": 300, \"continuousHeight\": 300}}, \"data\": {\"name\": \"data-76324e064061f690a09716f55f379f7e\"}, \"mark\": {\"type\": \"point\", \"tooltip\": true}, \"encoding\": {\"color\": {\"field\": \"Kj\\u00f8ret\\u00f8ymerke\", \"type\": \"nominal\"}, \"shape\": {\"field\": \"Kj\\u00f8ret\\u00f8ymerke\", \"type\": \"nominal\"}, \"x\": {\"field\": \"Alder ved kontroll\", \"title\": \"Alder ved kontroll\", \"type\": \"quantitative\"}, \"y\": {\"field\": \"Andel godkjente i prosent\", \"type\": \"quantitative\"}}, \"params\": [{\"name\": \"param_5\", \"select\": {\"type\": \"interval\", \"encodings\": [\"x\", \"y\"]}, \"bind\": \"scales\"}], \"$schema\": \"https://vega.github.io/schema/vega-lite/v5.20.1.json\", \"datasets\": {\"data-76324e064061f690a09716f55f379f7e\": [{\"Kj\\u00f8ret\\u00f8ymerke\": \"VOLVO\", \"Alder ved kontroll\": 63, \"Andel godkjente i prosent\": 100.0}, {\"Kj\\u00f8ret\\u00f8ymerke\": \"VOLVO\", \"Alder ved kontroll\": 49, \"Andel godkjente i prosent\": 84.62}, {\"Kj\\u00f8ret\\u00f8ymerke\": \"TOYOTA\", \"Alder ved kontroll\": 61, \"Andel godkjente i prosent\": 80.0}]}}, {\"mode\": \"vega-lite\"});\n",
       "</script>"
      ],
      "text/plain": [
       "alt.Chart(...)"
      ]
     },
     "execution_count": 30,
     "metadata": {},
     "output_type": "execute_result"
    }
   ],
   "source": [
    "import altair as alt\n",
    "\n",
    "df_andel.plot.point(\n",
    "\n",
    "    x=alt.X(\"Alder ved kontroll\", title=\"Alder ved kontroll\"), y=\"Andel godkjente i prosent\", color=\"Kjøretøymerke\", shape=\"Kjøretøymerke\"\n",
    "\n",
    ")  \n",
    "\n",
    "# Usikker på om jg har gjort det riktig. Utfra dette ville jeg vel valgt Volvo...?"
   ]
  }
 ],
 "metadata": {
  "kernelspec": {
   "display_name": "Python 3 (ipykernel)",
   "language": "python",
   "name": "python3"
  },
  "language_info": {
   "codemirror_mode": {
    "name": "ipython",
    "version": 3
   },
   "file_extension": ".py",
   "mimetype": "text/x-python",
   "name": "python",
   "nbconvert_exporter": "python",
   "pygments_lexer": "ipython3",
   "version": "3.13.2"
  }
 },
 "nbformat": 4,
 "nbformat_minor": 5
}
